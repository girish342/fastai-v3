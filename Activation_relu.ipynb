{
  "nbformat": 4,
  "nbformat_minor": 0,
  "metadata": {
    "colab": {
      "name": "Activation_relu.ipynb",
      "provenance": [],
      "authorship_tag": "ABX9TyPkpsECvNjcqS1OIo+mGHim",
      "include_colab_link": true
    },
    "kernelspec": {
      "name": "python3",
      "display_name": "Python 3"
    }
  },
  "cells": [
    {
      "cell_type": "markdown",
      "metadata": {
        "id": "view-in-github",
        "colab_type": "text"
      },
      "source": [
        "<a href=\"https://colab.research.google.com/github/girish342/fastai-v3/blob/master/Activation_relu.ipynb\" target=\"_parent\"><img src=\"https://colab.research.google.com/assets/colab-badge.svg\" alt=\"Open In Colab\"/></a>"
      ]
    },
    {
      "cell_type": "code",
      "metadata": {
        "id": "aHH3StUcgxqH",
        "colab_type": "code",
        "colab": {}
      },
      "source": [
        "# activation means to activate neural network \n",
        "# relu = rectified linear unit\n",
        "# we use relu because it fits great into non linear data \n",
        "# it converts output to either 0 or max in postive integers "
      ],
      "execution_count": 0,
      "outputs": []
    },
    {
      "cell_type": "code",
      "metadata": {
        "id": "w3CfxkUbf4lg",
        "colab_type": "code",
        "colab": {
          "base_uri": "https://localhost:8080/",
          "height": 121
        },
        "outputId": "1179131d-ca20-4c41-b4f8-fc1e21c54cfe"
      },
      "source": [
        "!pip install nnfs"
      ],
      "execution_count": 3,
      "outputs": [
        {
          "output_type": "stream",
          "text": [
            "Collecting nnfs\n",
            "  Downloading https://files.pythonhosted.org/packages/3d/86/27b5eca39662b231ae309039e1140725d9842123a42e41cd0eb89126664c/nnfs-0.4.0-py3-none-any.whl\n",
            "Requirement already satisfied: numpy in /usr/local/lib/python3.6/dist-packages (from nnfs) (1.18.4)\n",
            "Installing collected packages: nnfs\n",
            "Successfully installed nnfs-0.4.0\n"
          ],
          "name": "stdout"
        }
      ]
    },
    {
      "cell_type": "code",
      "metadata": {
        "id": "bO3swG1KR2aV",
        "colab_type": "code",
        "colab": {}
      },
      "source": [
        "import numpy as np\n",
        "import nnfs\n",
        "from nnfs.datasets import spiral_data\n"
      ],
      "execution_count": 0,
      "outputs": []
    },
    {
      "cell_type": "code",
      "metadata": {
        "id": "4AzAVRxCdFKI",
        "colab_type": "code",
        "colab": {}
      },
      "source": [
        "nnfs.init()\n",
        "X = [[1,2,3,4],\n",
        "     [0.5,2.5,3.5,1.5],\n",
        "     [3,4,2,1]]  "
      ],
      "execution_count": 0,
      "outputs": []
    },
    {
      "cell_type": "code",
      "metadata": {
        "id": "gynwCEExSNOf",
        "colab_type": "code",
        "colab": {}
      },
      "source": [
        "X,y = spiral_data(100,3)"
      ],
      "execution_count": 0,
      "outputs": []
    },
    {
      "cell_type": "code",
      "metadata": {
        "id": "ulRnUNXpS2JQ",
        "colab_type": "code",
        "colab": {}
      },
      "source": [
        "np.random.seed(0)\n",
        "class Layer_Dense:\n",
        "  def __init__(self,n_inputs,n_neurons ):\n",
        "      self.weights = 0.10 * np.random.randn(n_inputs,n_neurons)  # it gives rise to shape of matrix of weights \n",
        "      self.biases = np.zeros((1,n_neurons))\n",
        "  def forward(self,inputs):\n",
        "      self.output = np.dot(inputs, self.weights) + self.biases \n",
        "\n",
        "\n",
        "\n",
        "class Activation_ReLU:\n",
        "  def forward(self,inputs):\n",
        "    self.output = np.maximum(0,inputs)"
      ],
      "execution_count": 0,
      "outputs": []
    },
    {
      "cell_type": "code",
      "metadata": {
        "id": "slFi5Jq8dpTS",
        "colab_type": "code",
        "colab": {
          "base_uri": "https://localhost:8080/",
          "height": 134
        },
        "outputId": "62774f15-c34f-4f4c-b79f-f78a4d79557b"
      },
      "source": [
        "layer1 = Layer_Dense(2,5)  # 4=inputs,5=neurons\n",
        "activation1 = Activation_ReLU()\n",
        "layer1.forward(X)\n",
        "#print(layer1.output)\n",
        "activation1.forward(layer1.output)\n",
        "print(activation1.output)\n"
      ],
      "execution_count": 11,
      "outputs": [
        {
          "output_type": "stream",
          "text": [
            "[[0.0000000e+00 0.0000000e+00 0.0000000e+00 0.0000000e+00 0.0000000e+00]\n",
            " [1.9723912e-04 1.3000938e-03 8.9394738e-04 0.0000000e+00 0.0000000e+00]\n",
            " [4.4291088e-04 2.4017927e-03 7.2769134e-04 0.0000000e+00 0.0000000e+00]\n",
            " ...\n",
            " [0.0000000e+00 0.0000000e+00 1.1289997e-01 1.7913374e-01 2.5910899e-02]\n",
            " [0.0000000e+00 0.0000000e+00 6.9648728e-02 1.9956945e-01 3.8423590e-02]\n",
            " [0.0000000e+00 5.3640064e-03 1.2378567e-01 1.7383415e-01 2.2722276e-02]]\n"
          ],
          "name": "stdout"
        }
      ]
    },
    {
      "cell_type": "code",
      "metadata": {
        "id": "RwiWnxGAgG1Z",
        "colab_type": "code",
        "colab": {}
      },
      "source": [
        ""
      ],
      "execution_count": 0,
      "outputs": []
    }
  ]
}